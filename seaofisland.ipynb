{
 "cells": [
  {
   "cell_type": "code",
   "execution_count": 1,
   "metadata": {},
   "outputs": [],
   "source": [
    "import sea\n",
    "import numpy as np"
   ]
  },
  {
   "cell_type": "code",
   "execution_count": 2,
   "metadata": {},
   "outputs": [
    {
     "data": {
      "text/plain": [
       "<module 'sea' from '/Users/jlee/Desktop/github/ICS311-Assignment5/sea.py'>"
      ]
     },
     "execution_count": 2,
     "metadata": {},
     "output_type": "execute_result"
    }
   ],
   "source": [
    "import importlib\n",
    "importlib.reload(sea)"
   ]
  },
  {
   "cell_type": "code",
   "execution_count": 3,
   "metadata": {},
   "outputs": [],
   "source": [
    "# Mock data from ChatGPT\n",
    "islands = {\n",
    "    \"Hawaii\": {\"pop\": 1500, \"last_visit\": 0, \"resource_demand\": 12},\n",
    "    \"Tahiti\": {\"pop\": 2000, \"last_visit\": 0, \"resource_demand\": 12},\n",
    "    \"Rapanui\": {\"pop\": 800, \"last_visit\": 0, \"resource_demand\": 12},\n",
    "    \"Fiji\": {\"pop\": 1200, \"last_visit\": 0, \"resource_demand\": 12},\n",
    "    \"Samoa\": {\"pop\": 1300, \"last_visit\": 0, \"resource_demand\": 12},\n",
    "    \"Tonga\": {\"pop\": 1100, \"last_visit\": 0, \"resource_demand\": 12},\n",
    "    \"Vanuatu\": {\"pop\": 700, \"last_visit\": 0, \"resource_demand\": 12},\n",
    "    \"NewCaledonia\": {\"pop\": 900, \"last_visit\": 0, \"resource_demand\": 12},\n",
    "    \"SolomonIslands\": {\"pop\": 850, \"last_visit\": 0, \"resource_demand\": 12},\n",
    "    \"Kiribati\": {\"pop\": 600, \"last_visit\": 0, \"resource_demand\": 12},\n",
    "    \"Palau\": {\"pop\": 500, \"last_visit\": 0, \"resource_demand\": 12},\n",
    "    \"MarshallIslands\": {\"pop\": 400, \"last_visit\": 0, \"resource_demand\": 12},\n",
    "    \"Tuvalu\": {\"pop\": 300, \"last_visit\": 0, \"resource_demand\": 12},\n",
    "    \"PapuaNewGuinea\": {\"pop\": 1500, \"last_visit\": 0, \"resource_demand\": 12},\n",
    "    \"CookIslands\": {\"pop\": 550, \"last_visit\": 0, \"resource_demand\": 12},\n",
    "    \"Niue\": {\"pop\": 200, \"last_visit\": 0, \"resource_demand\": 12},\n",
    "    \"NorfolkIsland\": {\"pop\": 250, \"last_visit\": 0, \"resource_demand\": 12},\n",
    "    \"Tokelau\": {\"pop\": 100, \"last_visit\": 0, \"resource_demand\": 12},\n",
    "    \"Pitcairn\": {\"pop\": 50, \"last_visit\": 0, \"resource_demand\": 12},\n",
    "    \"Nauru\": {\"pop\": 500, \"last_visit\": 0, \"resource_demand\": 12},\n",
    "    \"Guam\": {\"pop\": 1600, \"last_visit\": 0, \"resource_demand\": 12},\n",
    "    \"Saipan\": {\"pop\": 750, \"last_visit\": 0, \"resource_demand\": 12},\n",
    "    \"Yap\": {\"pop\": 300, \"last_visit\": 0, \"resource_demand\": 12},\n",
    "    \"Chuuk\": {\"pop\": 450, \"last_visit\": 0, \"resource_demand\": 12},\n",
    "    \"Pohnpei\": {\"pop\": 600, \"last_visit\": 0, \"resource_demand\": 12},\n",
    "    \"Kosrae\": {\"pop\": 250, \"last_visit\": 0, \"resource_demand\": 12},\n",
    "    \"Wallis\": {\"pop\": 200, \"last_visit\": 0, \"resource_demand\": 12},\n",
    "    \"Futuna\": {\"pop\": 180, \"last_visit\": 0, \"resource_demand\": 12},\n",
    "    \"Mangareva\": {\"pop\": 300, \"last_visit\": 0, \"resource_demand\": 12},\n",
    "    \"Aitutaki\": {\"pop\": 500, \"last_visit\": 0, \"resource_demand\": 12},\n",
    "    \"Moorea\": {\"pop\": 700, \"last_visit\": 0, \"resource_demand\": 12},\n",
    "    \"BoraBora\": {\"pop\": 550, \"last_visit\": 0, \"resource_demand\": 12},\n",
    "    \"Raiatea\": {\"pop\": 600, \"last_visit\": 0, \"resource_demand\": 12},\n",
    "    \"Maupiti\": {\"pop\": 300, \"last_visit\": 0, \"resource_demand\": 12},\n",
    "    \"Huahine\": {\"pop\": 350, \"last_visit\": 0, \"resource_demand\": 12},\n",
    "    \"Tubuai\": {\"pop\": 400, \"last_visit\": 0, \"resource_demand\": 12},\n",
    "    \"Rimatara\": {\"pop\": 150, \"last_visit\": 0, \"resource_demand\": 12},\n",
    "    \"Raivavae\": {\"pop\": 200, \"last_visit\": 0, \"resource_demand\": 12},\n",
    "    \"Rurutu\": {\"pop\": 300, \"last_visit\": 0, \"resource_demand\": 12},\n",
    "    \"Makatea\": {\"pop\": 100, \"last_visit\": 0, \"resource_demand\": 12},\n",
    "    \"Manihi\": {\"pop\": 120, \"last_visit\": 0, \"resource_demand\": 12},\n",
    "    \"Takaroa\": {\"pop\": 90, \"last_visit\": 0, \"resource_demand\": 12},\n",
    "    \"Fakarava\": {\"pop\": 200, \"last_visit\": 0, \"resource_demand\": 12},\n",
    "    \"Hikueru\": {\"pop\": 80, \"last_visit\": 0, \"resource_demand\": 12},\n",
    "    \"Amanu\": {\"pop\": 60, \"last_visit\": 0, \"resource_demand\": 12},\n",
    "    \"Arutua\": {\"pop\": 100, \"last_visit\": 0, \"resource_demand\": 12},\n",
    "    \"Apia\": {\"pop\": 1600, \"last_visit\": 0, \"resource_demand\": 12},\n",
    "    \"PagoPago\": {\"pop\": 1200, \"last_visit\": 0, \"resource_demand\": 12},\n",
    "    \"Nuku'alofa\": {\"pop\": 1100, \"last_visit\": 0, \"resource_demand\": 12},\n",
    "    \"HangaRo\": {\"pop\": 1000, \"last_visit\": 0, \"resource_demand\": 12},\n",
    "    \"Paikea\": {\"pop\": 800, \"last_visit\": 0, \"resource_demand\": 12},\n",
    "    \"Papeete\": {\"pop\": 1500, \"last_visit\": 0, \"resource_demand\": 12},\n",
    "}\n",
    "\n",
    "routes = [\n",
    "    (\"Hawaii\", \"Tahiti\", 15), (\"Tahiti\", \"Rapanui\", 10), (\"Rapanui\", \"Fiji\", 25),\n",
    "    (\"Fiji\", \"Samoa\", 18), (\"Samoa\", \"Tonga\", 20), (\"Tonga\", \"Vanuatu\", 12),\n",
    "    (\"Vanuatu\", \"NewCaledonia\", 8), (\"NewCaledonia\", \"SolomonIslands\", 14),\n",
    "    (\"SolomonIslands\", \"Kiribati\", 22), (\"Kiribati\", \"Palau\", 16),\n",
    "    (\"Palau\", \"MarshallIslands\", 10), (\"MarshallIslands\", \"Tuvalu\", 18),\n",
    "    (\"Tuvalu\", \"PapuaNewGuinea\", 24), (\"PapuaNewGuinea\", \"CookIslands\", 15),\n",
    "    (\"CookIslands\", \"Niue\", 5), (\"Niue\", \"NorfolkIsland\", 20),\n",
    "    (\"NorfolkIsland\", \"Tokelau\", 12), (\"Tokelau\", \"Pitcairn\", 25),\n",
    "    (\"Pitcairn\", \"Nauru\", 18), (\"Nauru\", \"Guam\", 30),\n",
    "    (\"Guam\", \"Saipan\", 7), (\"Saipan\", \"Yap\", 12),\n",
    "    (\"Yap\", \"Chuuk\", 9), (\"Chuuk\", \"Pohnpei\", 14), (\"Pohnpei\", \"Kosrae\", 6),\n",
    "    (\"Kosrae\", \"Wallis\", 13), (\"Wallis\", \"Futuna\", 7), (\"Futuna\", \"Mangareva\", 20),\n",
    "    (\"Mangareva\", \"Aitutaki\", 10), (\"Aitutaki\", \"Moorea\", 12), (\"Moorea\", \"BoraBora\", 9),\n",
    "    (\"BoraBora\", \"Raiatea\", 5), (\"Raiatea\", \"Maupiti\", 8), (\"Maupiti\", \"Huahine\", 7),\n",
    "    (\"Huahine\", \"Tubuai\", 11), (\"Tubuai\", \"Rimatara\", 13), (\"Rimatara\", \"Raivavae\", 14),\n",
    "    (\"Raivavae\", \"Rurutu\", 15), (\"Rurutu\", \"Makatea\", 17), (\"Makatea\", \"Manihi\", 8),\n",
    "    (\"Manihi\", \"Takaroa\", 6), (\"Takaroa\", \"Fakarava\", 9), (\"Fakarava\", \"Hikueru\", 7),\n",
    "    (\"Hikueru\", \"Amanu\", 5), (\"Amanu\", \"Arutua\", 8), (\"Arutua\", \"Apia\", 12),\n",
    "    (\"Apia\", \"PagoPago\", 5), (\"PagoPago\", \"Nuku'alofa\", 10), (\"Nuku'alofa\", \"HangaRo\", 16),\n",
    "    (\"HangaRo\", \"Paikea\", 18), (\"Paikea\", \"Papeete\", 20), (\"Papeete\", \"Hawaii\", 25),\n",
    "\n",
    "    # Additional connections with limited paths\n",
    "    (\"Hawaii\", \"MarshallIslands\", 28), (\"MarshallIslands\", \"Fiji\", 26),\n",
    "    (\"Fiji\", \"Tahiti\", 24), (\"Tahiti\", \"Papeete\", 6), (\"Papeete\", \"Apia\", 10),\n",
    "    (\"Apia\", \"Saipan\", 18), (\"Saipan\", \"Tuvalu\", 15), (\"Tuvalu\", \"NorfolkIsland\", 13),\n",
    "\n",
    "    # New connections with limited directionality or neighbors\n",
    "    (\"Hawaii\", \"JohnstonAtoll\", 20), # JohnstonAtoll with only one neighbor Hawaii\n",
    "    (\"JohnstonAtoll\", \"Hawaii\", 20), # Return connection for JohnstonAtoll to Hawaii\n",
    "    (\"Tahiti\", \"BoraBora\", 14), # Extra connection for more routing options\n",
    "    (\"Papeete\", \"Rarotonga\", 11), # Unidirectional route from Papeete to Rarotonga\n",
    "    (\"Rarotonga\", \"CookIslands\", 8), # Rarotonga has only one neighbor in Cook Islands\n",
    "    (\"Fiji\", \"Vanuatu\", 15), (\"Vanuatu\", \"Fiji\", 15), # Bi-directional route between Fiji and Vanuatu\n",
    "    (\"Tokelau\", \"Samoa\", 9), # Tokelau to Samoa without reverse path\n",
    "    (\"Samoa\", \"Tokelau\", 9), # Reverse path for Samoa to Tokelau\n",
    "    (\"Chuuk\", \"Yap\", 11), # Extra connection for more neighbor options\n",
    "    (\"Yap\", \"Chuuk\", 11), # Reverse path for symmetry\n",
    "    (\"Wallis\", \"AucklandIslands\", 17), # AucklandIslands with limited connectivity\n",
    "    (\"AucklandIslands\", \"Wallis\", 17), # Reverse connection\n",
    "    (\"Tahiti\", \"Moorea\", 8), (\"Moorea\", \"BoraBora\", 9), # More connections for Tahiti, Moorea, and BoraBora\n",
    "    (\"Kiribati\", \"SolomonIslands\", 22), (\"SolomonIslands\", \"NewCaledonia\", 16),\n",
    "    (\"Nauru\", \"PapuaNewGuinea\", 18), (\"PapuaNewGuinea\", \"Tuvalu\", 15),\n",
    "    (\"Fiji\", \"NewCaledonia\", 12), (\"NewCaledonia\", \"Guam\", 15),\n",
    "    (\"PagoPago\", \"Rapanui\", 30), (\"Rapanui\", \"Hawaii\", 35),\n",
    "]\n"
   ]
  },
  {
   "cell_type": "code",
   "execution_count": 4,
   "metadata": {},
   "outputs": [
    {
     "name": "stdout",
     "output_type": "stream",
     "text": [
      "\n",
      "Island: PagoPago\n",
      "Population: 1200\n",
      "Last visit: 0\n",
      "Resource demand: 12\n",
      "\n",
      "\n",
      "Island: Rurutu\n",
      "Population: 300\n",
      "Last visit: 0\n",
      "Resource demand: 12\n",
      "\n",
      "From Hawaii to Tahiti takes 15\n",
      "From Hawaii to MarshallIslands takes 28\n",
      "From Hawaii to JohnstonAtoll takes 20\n",
      "From Tahiti to Rapanui takes 10\n",
      "From Tahiti to Papeete takes 6\n",
      "From Tahiti to BoraBora takes 14\n",
      "From Tahiti to Moorea takes 8\n",
      "From Rapanui to Fiji takes 25\n",
      "From Rapanui to Hawaii takes 35\n",
      "From Fiji to Samoa takes 18\n",
      "From Fiji to Tahiti takes 24\n",
      "From Fiji to Vanuatu takes 15\n",
      "From Fiji to NewCaledonia takes 12\n",
      "From Samoa to Tonga takes 20\n",
      "From Samoa to Tokelau takes 9\n",
      "From Tonga to Vanuatu takes 12\n",
      "From Vanuatu to NewCaledonia takes 8\n",
      "From Vanuatu to Fiji takes 15\n",
      "From NewCaledonia to SolomonIslands takes 14\n",
      "From NewCaledonia to Guam takes 15\n",
      "From SolomonIslands to Kiribati takes 22\n",
      "From SolomonIslands to NewCaledonia takes 16\n",
      "From Kiribati to Palau takes 16\n",
      "From Kiribati to SolomonIslands takes 22\n",
      "From Palau to MarshallIslands takes 10\n",
      "From MarshallIslands to Tuvalu takes 18\n",
      "From MarshallIslands to Fiji takes 26\n",
      "From Tuvalu to PapuaNewGuinea takes 24\n",
      "From Tuvalu to NorfolkIsland takes 13\n",
      "From PapuaNewGuinea to CookIslands takes 15\n",
      "From PapuaNewGuinea to Tuvalu takes 15\n",
      "From CookIslands to Niue takes 5\n",
      "From Niue to NorfolkIsland takes 20\n",
      "From NorfolkIsland to Tokelau takes 12\n",
      "From Tokelau to Pitcairn takes 25\n",
      "From Tokelau to Samoa takes 9\n",
      "From Pitcairn to Nauru takes 18\n",
      "From Nauru to Guam takes 30\n",
      "From Nauru to PapuaNewGuinea takes 18\n",
      "From Guam to Saipan takes 7\n",
      "From Saipan to Yap takes 12\n",
      "From Saipan to Tuvalu takes 15\n",
      "From Yap to Chuuk takes 11\n",
      "From Chuuk to Pohnpei takes 14\n",
      "From Chuuk to Yap takes 11\n",
      "From Pohnpei to Kosrae takes 6\n",
      "From Kosrae to Wallis takes 13\n",
      "From Wallis to Futuna takes 7\n",
      "From Wallis to AucklandIslands takes 17\n",
      "From Futuna to Mangareva takes 20\n",
      "From Mangareva to Aitutaki takes 10\n",
      "From Aitutaki to Moorea takes 12\n",
      "From Moorea to BoraBora takes 9\n",
      "From BoraBora to Raiatea takes 5\n",
      "From Raiatea to Maupiti takes 8\n",
      "From Maupiti to Huahine takes 7\n",
      "From Huahine to Tubuai takes 11\n",
      "From Tubuai to Rimatara takes 13\n",
      "From Rimatara to Raivavae takes 14\n",
      "From Raivavae to Rurutu takes 15\n",
      "From Rurutu to Makatea takes 17\n",
      "From Makatea to Manihi takes 8\n",
      "From Manihi to Takaroa takes 6\n",
      "From Takaroa to Fakarava takes 9\n",
      "From Fakarava to Hikueru takes 7\n",
      "From Hikueru to Amanu takes 5\n",
      "From Amanu to Arutua takes 8\n",
      "From Arutua to Apia takes 12\n",
      "From Apia to PagoPago takes 5\n",
      "From Apia to Saipan takes 18\n",
      "From PagoPago to Nuku'alofa takes 10\n",
      "From PagoPago to Rapanui takes 30\n",
      "From Nuku'alofa to HangaRo takes 16\n",
      "From HangaRo to Paikea takes 18\n",
      "From Paikea to Papeete takes 20\n",
      "From Papeete to Hawaii takes 25\n",
      "From Papeete to Apia takes 10\n",
      "From Papeete to Rarotonga takes 11\n",
      "From JohnstonAtoll to Hawaii takes 20\n",
      "From Rarotonga to CookIslands takes 8\n",
      "From AucklandIslands to Wallis takes 17\n"
     ]
    }
   ],
   "source": [
    "# Testing sea of islands initialization\n",
    "pacific = sea.Sea(islands, routes)\n",
    "pacific.print_island(\"PagoPago\")\n",
    "pacific.print_island(\"Rurutu\")\n",
    "pacific.print_routes()"
   ]
  },
  {
   "cell_type": "code",
   "execution_count": 5,
   "metadata": {},
   "outputs": [
    {
     "name": "stdout",
     "output_type": "stream",
     "text": [
      "\n",
      "--- Iteration 1 ---\n",
      "\n",
      "Evaluating neighbors for Raivavae at time 0\n",
      "Path so far: Rurutu\n",
      "\n",
      "--- Iteration 2 ---\n",
      "\n",
      "Evaluating neighbors for Rurutu at time 15\n",
      "Path so far: Rurutu -> Makatea\n",
      "\n",
      "--- Iteration 3 ---\n",
      "\n",
      "Evaluating neighbors for Makatea at time 32\n",
      "Path so far: Rurutu -> Makatea -> Manihi\n",
      "\n",
      "--- Iteration 4 ---\n",
      "\n",
      "Evaluating neighbors for Manihi at time 40\n",
      "Path so far: Rurutu -> Makatea -> Manihi -> Takaroa\n",
      "\n",
      "--- Iteration 5 ---\n",
      "\n",
      "Evaluating neighbors for Takaroa at time 46\n",
      "Path so far: Rurutu -> Makatea -> Manihi -> Takaroa -> Fakarava\n",
      "\n",
      "--- Iteration 6 ---\n",
      "\n",
      "Evaluating neighbors for Fakarava at time 55\n",
      "Path so far: Rurutu -> Makatea -> Manihi -> Takaroa -> Fakarava -> Hikueru\n",
      "\n",
      "--- Iteration 7 ---\n",
      "\n",
      "Evaluating neighbors for Hikueru at time 62\n",
      "Path so far: Rurutu -> Makatea -> Manihi -> Takaroa -> Fakarava -> Hikueru -> Amanu\n",
      "\n",
      "--- Iteration 8 ---\n",
      "\n",
      "Evaluating neighbors for Amanu at time 67\n",
      "Path so far: Rurutu -> Makatea -> Manihi -> Takaroa -> Fakarava -> Hikueru -> Amanu -> Arutua\n",
      "\n",
      "--- Iteration 9 ---\n",
      "\n",
      "Evaluating neighbors for Arutua at time 75\n",
      "Path so far: Rurutu -> Makatea -> Manihi -> Takaroa -> Fakarava -> Hikueru -> Amanu -> Arutua -> Apia\n",
      "\n",
      "--- Iteration 10 ---\n",
      "\n",
      "Evaluating neighbors for Apia at time 87\n",
      "Path so far: Rurutu -> Makatea -> Manihi -> Takaroa -> Fakarava -> Hikueru -> Amanu -> Arutua -> Apia -> PagoPago\n",
      "\n",
      "Final path taken across islands: Rurutu -> Makatea -> Manihi -> Takaroa -> Fakarava -> Hikueru -> Amanu -> Arutua -> Apia -> PagoPago\n"
     ]
    },
    {
     "data": {
      "text/plain": [
       "['Rurutu',\n",
       " 'Makatea',\n",
       " 'Manihi',\n",
       " 'Takaroa',\n",
       " 'Fakarava',\n",
       " 'Hikueru',\n",
       " 'Amanu',\n",
       " 'Arutua',\n",
       " 'Apia',\n",
       " 'PagoPago']"
      ]
     },
     "execution_count": 5,
     "metadata": {},
     "output_type": "execute_result"
    }
   ],
   "source": [
    "pacific.n_next_best_islands_greedy(\"Raivavae\", 10)"
   ]
  },
  {
   "cell_type": "code",
   "execution_count": 6,
   "metadata": {},
   "outputs": [
    {
     "name": "stdout",
     "output_type": "stream",
     "text": [
      "[(157, ['Raivavae', 'Rurutu', 'Makatea', 'Manihi', 'Takaroa', 'Fakarava', 'Hikueru', 'Amanu', 'Arutua', 'Apia', 'PagoPago', 'Rapanui', 'Hawaii']), (171, ['Raivavae', 'Rurutu', 'Makatea', 'Manihi', 'Takaroa', 'Fakarava', 'Hikueru', 'Amanu', 'Arutua', 'Apia', 'PagoPago', 'Rapanui', 'Fiji', 'Tahiti']), (122, ['Raivavae', 'Rurutu', 'Makatea', 'Manihi', 'Takaroa', 'Fakarava', 'Hikueru', 'Amanu', 'Arutua', 'Apia', 'PagoPago', 'Rapanui']), (147, ['Raivavae', 'Rurutu', 'Makatea', 'Manihi', 'Takaroa', 'Fakarava', 'Hikueru', 'Amanu', 'Arutua', 'Apia', 'PagoPago', 'Rapanui', 'Fiji']), (154, ['Raivavae', 'Rurutu', 'Makatea', 'Manihi', 'Takaroa', 'Fakarava', 'Hikueru', 'Amanu', 'Arutua', 'Apia', 'Saipan', 'Tuvalu', 'NorfolkIsland', 'Tokelau', 'Samoa']), (174, ['Raivavae', 'Rurutu', 'Makatea', 'Manihi', 'Takaroa', 'Fakarava', 'Hikueru', 'Amanu', 'Arutua', 'Apia', 'Saipan', 'Tuvalu', 'NorfolkIsland', 'Tokelau', 'Samoa', 'Tonga']), (162, ['Raivavae', 'Rurutu', 'Makatea', 'Manihi', 'Takaroa', 'Fakarava', 'Hikueru', 'Amanu', 'Arutua', 'Apia', 'PagoPago', 'Rapanui', 'Fiji', 'Vanuatu']), (159, ['Raivavae', 'Rurutu', 'Makatea', 'Manihi', 'Takaroa', 'Fakarava', 'Hikueru', 'Amanu', 'Arutua', 'Apia', 'PagoPago', 'Rapanui', 'Fiji', 'NewCaledonia']), (173, ['Raivavae', 'Rurutu', 'Makatea', 'Manihi', 'Takaroa', 'Fakarava', 'Hikueru', 'Amanu', 'Arutua', 'Apia', 'PagoPago', 'Rapanui', 'Fiji', 'NewCaledonia', 'SolomonIslands']), (195, ['Raivavae', 'Rurutu', 'Makatea', 'Manihi', 'Takaroa', 'Fakarava', 'Hikueru', 'Amanu', 'Arutua', 'Apia', 'PagoPago', 'Rapanui', 'Fiji', 'NewCaledonia', 'SolomonIslands', 'Kiribati']), (211, ['Raivavae', 'Rurutu', 'Makatea', 'Manihi', 'Takaroa', 'Fakarava', 'Hikueru', 'Amanu', 'Arutua', 'Apia', 'PagoPago', 'Rapanui', 'Fiji', 'NewCaledonia', 'SolomonIslands', 'Kiribati', 'Palau']), (185, ['Raivavae', 'Rurutu', 'Makatea', 'Manihi', 'Takaroa', 'Fakarava', 'Hikueru', 'Amanu', 'Arutua', 'Apia', 'PagoPago', 'Rapanui', 'Hawaii', 'MarshallIslands']), (120, ['Raivavae', 'Rurutu', 'Makatea', 'Manihi', 'Takaroa', 'Fakarava', 'Hikueru', 'Amanu', 'Arutua', 'Apia', 'Saipan', 'Tuvalu']), (144, ['Raivavae', 'Rurutu', 'Makatea', 'Manihi', 'Takaroa', 'Fakarava', 'Hikueru', 'Amanu', 'Arutua', 'Apia', 'Saipan', 'Tuvalu', 'PapuaNewGuinea']), (159, ['Raivavae', 'Rurutu', 'Makatea', 'Manihi', 'Takaroa', 'Fakarava', 'Hikueru', 'Amanu', 'Arutua', 'Apia', 'Saipan', 'Tuvalu', 'PapuaNewGuinea', 'CookIslands']), (164, ['Raivavae', 'Rurutu', 'Makatea', 'Manihi', 'Takaroa', 'Fakarava', 'Hikueru', 'Amanu', 'Arutua', 'Apia', 'Saipan', 'Tuvalu', 'PapuaNewGuinea', 'CookIslands', 'Niue']), (133, ['Raivavae', 'Rurutu', 'Makatea', 'Manihi', 'Takaroa', 'Fakarava', 'Hikueru', 'Amanu', 'Arutua', 'Apia', 'Saipan', 'Tuvalu', 'NorfolkIsland']), (145, ['Raivavae', 'Rurutu', 'Makatea', 'Manihi', 'Takaroa', 'Fakarava', 'Hikueru', 'Amanu', 'Arutua', 'Apia', 'Saipan', 'Tuvalu', 'NorfolkIsland', 'Tokelau']), (170, ['Raivavae', 'Rurutu', 'Makatea', 'Manihi', 'Takaroa', 'Fakarava', 'Hikueru', 'Amanu', 'Arutua', 'Apia', 'Saipan', 'Tuvalu', 'NorfolkIsland', 'Tokelau', 'Pitcairn']), (188, ['Raivavae', 'Rurutu', 'Makatea', 'Manihi', 'Takaroa', 'Fakarava', 'Hikueru', 'Amanu', 'Arutua', 'Apia', 'Saipan', 'Tuvalu', 'NorfolkIsland', 'Tokelau', 'Pitcairn', 'Nauru']), (174, ['Raivavae', 'Rurutu', 'Makatea', 'Manihi', 'Takaroa', 'Fakarava', 'Hikueru', 'Amanu', 'Arutua', 'Apia', 'PagoPago', 'Rapanui', 'Fiji', 'NewCaledonia', 'Guam']), (105, ['Raivavae', 'Rurutu', 'Makatea', 'Manihi', 'Takaroa', 'Fakarava', 'Hikueru', 'Amanu', 'Arutua', 'Apia', 'Saipan']), (117, ['Raivavae', 'Rurutu', 'Makatea', 'Manihi', 'Takaroa', 'Fakarava', 'Hikueru', 'Amanu', 'Arutua', 'Apia', 'Saipan', 'Yap']), (128, ['Raivavae', 'Rurutu', 'Makatea', 'Manihi', 'Takaroa', 'Fakarava', 'Hikueru', 'Amanu', 'Arutua', 'Apia', 'Saipan', 'Yap', 'Chuuk']), (142, ['Raivavae', 'Rurutu', 'Makatea', 'Manihi', 'Takaroa', 'Fakarava', 'Hikueru', 'Amanu', 'Arutua', 'Apia', 'Saipan', 'Yap', 'Chuuk', 'Pohnpei']), (148, ['Raivavae', 'Rurutu', 'Makatea', 'Manihi', 'Takaroa', 'Fakarava', 'Hikueru', 'Amanu', 'Arutua', 'Apia', 'Saipan', 'Yap', 'Chuuk', 'Pohnpei', 'Kosrae']), (161, ['Raivavae', 'Rurutu', 'Makatea', 'Manihi', 'Takaroa', 'Fakarava', 'Hikueru', 'Amanu', 'Arutua', 'Apia', 'Saipan', 'Yap', 'Chuuk', 'Pohnpei', 'Kosrae', 'Wallis']), (168, ['Raivavae', 'Rurutu', 'Makatea', 'Manihi', 'Takaroa', 'Fakarava', 'Hikueru', 'Amanu', 'Arutua', 'Apia', 'Saipan', 'Yap', 'Chuuk', 'Pohnpei', 'Kosrae', 'Wallis', 'Futuna']), (188, ['Raivavae', 'Rurutu', 'Makatea', 'Manihi', 'Takaroa', 'Fakarava', 'Hikueru', 'Amanu', 'Arutua', 'Apia', 'Saipan', 'Yap', 'Chuuk', 'Pohnpei', 'Kosrae', 'Wallis', 'Futuna', 'Mangareva']), (198, ['Raivavae', 'Rurutu', 'Makatea', 'Manihi', 'Takaroa', 'Fakarava', 'Hikueru', 'Amanu', 'Arutua', 'Apia', 'Saipan', 'Yap', 'Chuuk', 'Pohnpei', 'Kosrae', 'Wallis', 'Futuna', 'Mangareva', 'Aitutaki']), (179, ['Raivavae', 'Rurutu', 'Makatea', 'Manihi', 'Takaroa', 'Fakarava', 'Hikueru', 'Amanu', 'Arutua', 'Apia', 'PagoPago', 'Rapanui', 'Fiji', 'Tahiti', 'Moorea']), (185, ['Raivavae', 'Rurutu', 'Makatea', 'Manihi', 'Takaroa', 'Fakarava', 'Hikueru', 'Amanu', 'Arutua', 'Apia', 'PagoPago', 'Rapanui', 'Fiji', 'Tahiti', 'BoraBora']), (190, ['Raivavae', 'Rurutu', 'Makatea', 'Manihi', 'Takaroa', 'Fakarava', 'Hikueru', 'Amanu', 'Arutua', 'Apia', 'PagoPago', 'Rapanui', 'Fiji', 'Tahiti', 'BoraBora', 'Raiatea']), (198, ['Raivavae', 'Rurutu', 'Makatea', 'Manihi', 'Takaroa', 'Fakarava', 'Hikueru', 'Amanu', 'Arutua', 'Apia', 'PagoPago', 'Rapanui', 'Fiji', 'Tahiti', 'BoraBora', 'Raiatea', 'Maupiti']), (205, ['Raivavae', 'Rurutu', 'Makatea', 'Manihi', 'Takaroa', 'Fakarava', 'Hikueru', 'Amanu', 'Arutua', 'Apia', 'PagoPago', 'Rapanui', 'Fiji', 'Tahiti', 'BoraBora', 'Raiatea', 'Maupiti', 'Huahine']), (216, ['Raivavae', 'Rurutu', 'Makatea', 'Manihi', 'Takaroa', 'Fakarava', 'Hikueru', 'Amanu', 'Arutua', 'Apia', 'PagoPago', 'Rapanui', 'Fiji', 'Tahiti', 'BoraBora', 'Raiatea', 'Maupiti', 'Huahine', 'Tubuai']), (229, ['Raivavae', 'Rurutu', 'Makatea', 'Manihi', 'Takaroa', 'Fakarava', 'Hikueru', 'Amanu', 'Arutua', 'Apia', 'PagoPago', 'Rapanui', 'Fiji', 'Tahiti', 'BoraBora', 'Raiatea', 'Maupiti', 'Huahine', 'Tubuai', 'Rimatara']), (15, ['Raivavae', 'Rurutu']), (32, ['Raivavae', 'Rurutu', 'Makatea']), (40, ['Raivavae', 'Rurutu', 'Makatea', 'Manihi']), (46, ['Raivavae', 'Rurutu', 'Makatea', 'Manihi', 'Takaroa']), (55, ['Raivavae', 'Rurutu', 'Makatea', 'Manihi', 'Takaroa', 'Fakarava']), (62, ['Raivavae', 'Rurutu', 'Makatea', 'Manihi', 'Takaroa', 'Fakarava', 'Hikueru']), (67, ['Raivavae', 'Rurutu', 'Makatea', 'Manihi', 'Takaroa', 'Fakarava', 'Hikueru', 'Amanu']), (75, ['Raivavae', 'Rurutu', 'Makatea', 'Manihi', 'Takaroa', 'Fakarava', 'Hikueru', 'Amanu', 'Arutua']), (87, ['Raivavae', 'Rurutu', 'Makatea', 'Manihi', 'Takaroa', 'Fakarava', 'Hikueru', 'Amanu', 'Arutua', 'Apia']), (92, ['Raivavae', 'Rurutu', 'Makatea', 'Manihi', 'Takaroa', 'Fakarava', 'Hikueru', 'Amanu', 'Arutua', 'Apia', 'PagoPago']), (102, ['Raivavae', 'Rurutu', 'Makatea', 'Manihi', 'Takaroa', 'Fakarava', 'Hikueru', 'Amanu', 'Arutua', 'Apia', 'PagoPago', \"Nuku'alofa\"]), (118, ['Raivavae', 'Rurutu', 'Makatea', 'Manihi', 'Takaroa', 'Fakarava', 'Hikueru', 'Amanu', 'Arutua', 'Apia', 'PagoPago', \"Nuku'alofa\", 'HangaRo']), (136, ['Raivavae', 'Rurutu', 'Makatea', 'Manihi', 'Takaroa', 'Fakarava', 'Hikueru', 'Amanu', 'Arutua', 'Apia', 'PagoPago', \"Nuku'alofa\", 'HangaRo', 'Paikea']), (156, ['Raivavae', 'Rurutu', 'Makatea', 'Manihi', 'Takaroa', 'Fakarava', 'Hikueru', 'Amanu', 'Arutua', 'Apia', 'PagoPago', \"Nuku'alofa\", 'HangaRo', 'Paikea', 'Papeete']), (177, ['Raivavae', 'Rurutu', 'Makatea', 'Manihi', 'Takaroa', 'Fakarava', 'Hikueru', 'Amanu', 'Arutua', 'Apia', 'PagoPago', 'Rapanui', 'Hawaii', 'JohnstonAtoll']), (167, ['Raivavae', 'Rurutu', 'Makatea', 'Manihi', 'Takaroa', 'Fakarava', 'Hikueru', 'Amanu', 'Arutua', 'Apia', 'PagoPago', \"Nuku'alofa\", 'HangaRo', 'Paikea', 'Papeete', 'Rarotonga']), (178, ['Raivavae', 'Rurutu', 'Makatea', 'Manihi', 'Takaroa', 'Fakarava', 'Hikueru', 'Amanu', 'Arutua', 'Apia', 'Saipan', 'Yap', 'Chuuk', 'Pohnpei', 'Kosrae', 'Wallis', 'AucklandIslands'])]\n"
     ]
    }
   ],
   "source": [
    "path = pacific.shortest_path(\"Raivavae\")\n",
    "print(path)"
   ]
  },
  {
   "cell_type": "code",
   "execution_count": 7,
   "metadata": {},
   "outputs": [
    {
     "name": "stdout",
     "output_type": "stream",
     "text": [
      "[['Raivavae', 'Rurutu'], ['Raivavae', 'Rurutu', 'Makatea', 'Manihi', 'Takaroa'], ['Raivavae', 'Rurutu', 'Makatea', 'Manihi', 'Takaroa', 'Fakarava', 'Hikueru', 'Amanu', 'Arutua', 'Apia', 'PagoPago']]\n"
     ]
    }
   ],
   "source": [
    "optimal = pacific.resource_distribution_path(\"Raivavae\", .5)\n",
    "print(optimal)"
   ]
  },
  {
   "cell_type": "code",
   "execution_count": 8,
   "metadata": {},
   "outputs": [
    {
     "name": "stdout",
     "output_type": "stream",
     "text": [
      "Hawaii {'Tahiti': 15, 'MarshallIslands': 28, 'JohnstonAtoll': 20}\n",
      "Tahiti {'Rapanui': 10, 'Papeete': 6, 'BoraBora': 14, 'Moorea': 8}\n",
      "Rapanui {'Fiji': 25, 'Hawaii': 35}\n",
      "Fiji {'Samoa': 18, 'Tahiti': 24, 'Vanuatu': 15, 'NewCaledonia': 12}\n",
      "Samoa {'Tonga': 20, 'Tokelau': 9}\n",
      "Tonga {'Vanuatu': 12}\n",
      "Vanuatu {'NewCaledonia': 8, 'Fiji': 15}\n",
      "NewCaledonia {'SolomonIslands': 14, 'Guam': 15}\n",
      "SolomonIslands {'Kiribati': 22, 'NewCaledonia': 16}\n",
      "Kiribati {'Palau': 16, 'SolomonIslands': 22}\n",
      "Palau {'MarshallIslands': 10}\n",
      "MarshallIslands {'Tuvalu': 18, 'Fiji': 26}\n",
      "Tuvalu {'PapuaNewGuinea': 24, 'NorfolkIsland': 13}\n",
      "PapuaNewGuinea {'CookIslands': 15, 'Tuvalu': 15}\n",
      "CookIslands {'Niue': 5}\n",
      "Niue {'NorfolkIsland': 20}\n",
      "NorfolkIsland {'Tokelau': 12}\n",
      "Tokelau {'Pitcairn': 25, 'Samoa': 9}\n",
      "Pitcairn {'Nauru': 18}\n",
      "Nauru {'Guam': 30, 'PapuaNewGuinea': 18}\n",
      "Guam {'Saipan': 7}\n",
      "Saipan {'Yap': 12, 'Tuvalu': 15}\n",
      "Yap {'Chuuk': 11}\n",
      "Chuuk {'Pohnpei': 14, 'Yap': 11}\n",
      "Pohnpei {'Kosrae': 6}\n",
      "Kosrae {'Wallis': 13}\n",
      "Wallis {'Futuna': 7, 'AucklandIslands': 17}\n",
      "Futuna {'Mangareva': 20}\n",
      "Mangareva {'Aitutaki': 10}\n",
      "Aitutaki {'Moorea': 12}\n",
      "Moorea {'BoraBora': 9}\n",
      "BoraBora {'Raiatea': 5}\n",
      "Raiatea {'Maupiti': 8}\n",
      "Maupiti {'Huahine': 7}\n",
      "Huahine {'Tubuai': 11}\n",
      "Tubuai {'Rimatara': 13}\n",
      "Rimatara {'Raivavae': 14}\n",
      "Raivavae {'Rurutu': 15}\n",
      "Rurutu {'Makatea': 17}\n",
      "Makatea {'Manihi': 8}\n",
      "Manihi {'Takaroa': 6}\n",
      "Takaroa {'Fakarava': 9}\n",
      "Fakarava {'Hikueru': 7}\n",
      "Hikueru {'Amanu': 5}\n",
      "Amanu {'Arutua': 8}\n",
      "Arutua {'Apia': 12}\n",
      "Apia {'PagoPago': 5, 'Saipan': 18}\n",
      "PagoPago {\"Nuku'alofa\": 10, 'Rapanui': 30}\n",
      "Nuku'alofa {'HangaRo': 16}\n",
      "HangaRo {'Paikea': 18}\n",
      "Paikea {'Papeete': 20}\n",
      "Papeete {'Hawaii': 25, 'Apia': 10, 'Rarotonga': 11}\n",
      "JohnstonAtoll {'Hawaii': 20}\n",
      "Rarotonga {'CookIslands': 8}\n",
      "AucklandIslands {'Wallis': 17}\n",
      "20\n"
     ]
    }
   ],
   "source": [
    "for i in pacific.adj:\n",
    "    print(i, pacific.adj[i])\n",
    "\n",
    "print(pacific.adj[\"Niue\"][\"NorfolkIsland\"])"
   ]
  },
  {
   "cell_type": "code",
   "execution_count": 9,
   "metadata": {},
   "outputs": [
    {
     "name": "stdout",
     "output_type": "stream",
     "text": [
      "It takes 190 days to deliver to 26 islands with 17 canoes\n"
     ]
    }
   ],
   "source": [
    "importlib.reload(sea)\n",
    "pacific = sea.Sea(islands, routes)\n",
    "\n",
    "canoes, total_time, islands_delivered = pacific.canoe_distribution(\"Raivavae\", .7)\n",
    "\n",
    "print(f\"It takes {total_time} days to deliver to {islands_delivered} islands with {canoes} canoes\")"
   ]
  },
  {
   "cell_type": "code",
   "execution_count": 10,
   "metadata": {},
   "outputs": [
    {
     "name": "stdout",
     "output_type": "stream",
     "text": [
      "[['Raivavae', 'Rurutu'], ['Raivavae', 'Rurutu', 'Makatea'], ['Raivavae', 'Rurutu', 'Makatea', 'Manihi', 'Takaroa'], ['Raivavae', 'Rurutu', 'Makatea', 'Manihi', 'Takaroa', 'Fakarava', 'Hikueru', 'Amanu'], ['Raivavae', 'Rurutu', 'Makatea', 'Manihi', 'Takaroa', 'Fakarava', 'Hikueru', 'Amanu', 'Arutua', 'Apia', 'PagoPago', \"Nuku'alofa\"], ['Raivavae', 'Rurutu', 'Makatea', 'Manihi', 'Takaroa', 'Fakarava', 'Hikueru', 'Amanu', 'Arutua', 'Apia', 'Saipan', 'Yap', 'Chuuk', 'Pohnpei', 'Kosrae'], ['Raivavae', 'Rurutu', 'Makatea', 'Manihi', 'Takaroa', 'Fakarava', 'Hikueru', 'Amanu', 'Arutua', 'Apia', 'Saipan', 'Tuvalu', 'NorfolkIsland', 'Tokelau', 'Samoa', 'Tonga'], ['Raivavae', 'Rurutu', 'Makatea', 'Manihi', 'Takaroa', 'Fakarava', 'Hikueru', 'Amanu', 'Arutua', 'Apia', 'PagoPago', 'Rapanui', 'Fiji', 'Tahiti', 'BoraBora', 'Raiatea']]\n"
     ]
    }
   ],
   "source": [
    "opt = pacific.resource_distribution_path(\"Raivavae\", .7)\n",
    "print(opt)"
   ]
  }
 ],
 "metadata": {
  "kernelspec": {
   "display_name": "Python 3",
   "language": "python",
   "name": "python3"
  },
  "language_info": {
   "codemirror_mode": {
    "name": "ipython",
    "version": 3
   },
   "file_extension": ".py",
   "mimetype": "text/x-python",
   "name": "python",
   "nbconvert_exporter": "python",
   "pygments_lexer": "ipython3",
   "version": "3.12.0"
  }
 },
 "nbformat": 4,
 "nbformat_minor": 2
}
